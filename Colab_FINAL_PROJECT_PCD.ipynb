{
  "cells": [
    {
      "cell_type": "markdown",
      "source": [
        "# Final Project PCD"
      ],
      "metadata": {
        "id": "FRPGrkntJJWm"
      }
    },
    {
      "cell_type": "markdown",
      "source": [
        "|Nama|NIM|\n",
        "|----|---|\n",
        "|Muhamad Iqbal Fatikhussabil|19/442477/PA/19226|\n",
        "|Thomas Budiarjo|20/459279/PA/19940|\n",
        "|Rachel Naragifta|21/482074/PA/21018|\n",
        "|Diki Bagastama|21/479920/PA/20824|\n",
        "|Azzakhruf Aryan Nur Ihsan|21/477261/PA/20646|\n",
        "|I Gusti Agung Premananda|21/472829/PA/20432|\n",
        "|Muny Safitri|22/206376/NUGM/01039|\n",
        "\n"
      ],
      "metadata": {
        "id": "MwuuILhZjLVV"
      }
    },
    {
      "cell_type": "markdown",
      "metadata": {
        "id": "ccDUGoBjJADn"
      },
      "source": [
        "# Initialize Library and Display Image"
      ]
    },
    {
      "cell_type": "code",
      "execution_count": null,
      "metadata": {
        "id": "RPqD2NnX_zX6"
      },
      "outputs": [],
      "source": [
        "import cv2 as cv\n",
        "import numpy as np\n",
        "from matplotlib import pyplot as plt"
      ]
    },
    {
      "cell_type": "code",
      "execution_count": null,
      "metadata": {
        "id": "I5UtEmPyBGd5"
      },
      "outputs": [],
      "source": [
        "img = cv.imread('sample.jpeg',-1)"
      ]
    },
    {
      "cell_type": "code",
      "execution_count": null,
      "metadata": {
        "id": "NVYuS0LxJADx"
      },
      "outputs": [],
      "source": [
        "# function to display the image\n",
        "def display(img):\n",
        "    img = cv.cvtColor(img, cv.COLOR_BGR2RGB)\n",
        "\n",
        "    plt.figure(figsize=(12,10))\n",
        "    plt.xticks([]), plt.yticks([])\n",
        "    plt.imshow(img)\n",
        "    plt.show()"
      ]
    },
    {
      "cell_type": "code",
      "execution_count": null,
      "metadata": {
        "id": "uVRWK7bUJADy"
      },
      "outputs": [],
      "source": [
        "display(img)"
      ]
    },
    {
      "cell_type": "markdown",
      "metadata": {
        "id": "DTYE0FdrJAD0"
      },
      "source": [
        "# Skin Masking\n"
      ]
    },
    {
      "cell_type": "markdown",
      "metadata": {
        "id": "kjkct5ECJAD2"
      },
      "source": [
        "## Filter out the background"
      ]
    },
    {
      "cell_type": "code",
      "execution_count": null,
      "metadata": {
        "id": "8ShKJ_-zJAD3"
      },
      "outputs": [],
      "source": [
        "# skin tone range\n",
        "lower = np.array([0, 48, 80], dtype = \"uint8\")\n",
        "upper = np.array([20, 255, 255], dtype = \"uint8\")\n",
        "\n",
        "# convert BGR to HSV\n",
        "converted = cv.cvtColor(img, cv.COLOR_BGR2HSV)\n",
        "\n",
        "# find the colors within the specified boundaries and apply\n",
        "# the mask\n",
        "skinMask = cv.inRange(converted, lower, upper)\n",
        "display(skinMask)"
      ]
    },
    {
      "cell_type": "markdown",
      "metadata": {
        "id": "j2lXmuYpJAD5"
      },
      "source": [
        "## Apply opening using an elliptical kernel"
      ]
    },
    {
      "cell_type": "code",
      "source": [
        "def square_slice(padded_img, w, i, j):\n",
        "  ip, jp = (i + w), (j + w)\n",
        "  square = padded_img[(ip - w):(ip + w + 1), (jp - w):(jp + w + 1)]\n",
        "  return square\n",
        "\n",
        "def dilate(input_img, kernel):\n",
        "  w, h = input_img.shape\n",
        "  pad_w = int((kernel.shape[0] - 1)/2)  # assume an odd square kernel\n",
        "  output = input_img.copy()\n",
        "  padded_img = np.pad(input_img, pad_w, mode='constant', constant_values=0)\n",
        "  for i in range(w):\n",
        "    for j in range(h):\n",
        "      square = (square_slice(padded_img, pad_w, i, j)/255).astype(np.uint8)\n",
        "      if np.any(square & kernel) == 1:\n",
        "        output[i, j] = 255\n",
        "      else:\n",
        "        output[i, j] = 0\n",
        "  return output.astype(np.uint8)\n",
        "\n",
        "def erode(input_img, kernel):\n",
        "  w, h = input_img.shape\n",
        "  pad_w = int((kernel.shape[0] - 1)/2)  # assume an odd square kernel\n",
        "  output = np.zeros((w, h))\n",
        "  padded_img = np.pad(input_img, pad_w, mode='constant', constant_values=0)\n",
        "  for i in range(w):\n",
        "    for j in range(h):\n",
        "      square = (square_slice(padded_img, pad_w, i, j)/255).astype(np.uint8)\n",
        "      square = np.invert(square)\n",
        "      if np.any(square & kernel) == 1:\n",
        "        output[i, j] = 0\n",
        "      else:\n",
        "        output[i, j] = 255\n",
        "  return output.astype(np.uint8)\n",
        "\n",
        "def iterate(iterations, func, input_img, kernel):\n",
        "  output = input_img\n",
        "  for i in range(iterations):\n",
        "    output = func(input_img, kernel)\n",
        "  return output"
      ],
      "metadata": {
        "id": "e3vsWd7Ukm3G"
      },
      "execution_count": null,
      "outputs": []
    },
    {
      "cell_type": "code",
      "execution_count": null,
      "metadata": {
        "id": "-oJ_HZSSJAD6"
      },
      "outputs": [],
      "source": [
        "kernel = cv.getStructuringElement(cv.MORPH_ELLIPSE, (11, 11))\n",
        "print(kernel)\n",
        "\n",
        "# skinMask = cv.erode(skinMask, kernel, iterations = 2)\n",
        "# skinMask = cv.dilate(skinMask, kernel, iterations = 2)\n",
        "\n",
        "skinMask = iterate(2, erode, skinMask, kernel)\n",
        "skinMask = iterate(2, dilate, skinMask, kernel)\n",
        "display(skinMask)"
      ]
    },
    {
      "cell_type": "markdown",
      "metadata": {
        "id": "EPWyKXB9JAD6"
      },
      "source": [
        "## Blur the mask to reduce noise"
      ]
    },
    {
      "cell_type": "code",
      "execution_count": null,
      "metadata": {
        "id": "nQQpiD4XJAD7"
      },
      "outputs": [],
      "source": [
        "skinMask = cv.GaussianBlur(skinMask, (3, 3), 0)\n",
        "skin = cv.bitwise_and(img, img, mask = skinMask)\n",
        "\n",
        "display(skin)"
      ]
    },
    {
      "cell_type": "markdown",
      "metadata": {
        "id": "dBuxb9qHJAD7"
      },
      "source": [
        "# Beautify"
      ]
    },
    {
      "cell_type": "markdown",
      "metadata": {
        "id": "9ID0m1OFJAD8"
      },
      "source": [
        "## Obtain high pass by subtracting blurred image from original"
      ]
    },
    {
      "cell_type": "markdown",
      "metadata": {
        "id": "ym-ippFMJAD8"
      },
      "source": [
        "Blur using bilateral filter because it preserves edges"
      ]
    },
    {
      "cell_type": "code",
      "execution_count": null,
      "metadata": {
        "id": "h2s2yTkRBQiq"
      },
      "outputs": [],
      "source": [
        "blur = cv.bilateralFilter(skin, 28, 45, 45)\n",
        "display(blur)"
      ]
    },
    {
      "cell_type": "code",
      "execution_count": null,
      "metadata": {
        "id": "i8Xeqay5BZPh"
      },
      "outputs": [],
      "source": [
        "hpf = skin - blur + 128\n",
        "display(hpf)"
      ]
    },
    {
      "cell_type": "code",
      "execution_count": null,
      "metadata": {
        "id": "ylYNCqXCXYT1"
      },
      "outputs": [],
      "source": [
        "hpf = cv.GaussianBlur(hpf,(5,5),0)\n",
        "display(hpf)"
      ]
    },
    {
      "cell_type": "markdown",
      "metadata": {
        "id": "EnyVp6iPJAD-"
      },
      "source": [
        "## Overlay high pass on original image"
      ]
    },
    {
      "cell_type": "code",
      "execution_count": null,
      "metadata": {
        "id": "SrmhREZ6JAD_"
      },
      "outputs": [],
      "source": [
        "# function for blending two images\n",
        "def blend(img1, img2):\n",
        "  first_img = img1.astype(float)/255\n",
        "  second_img = img2.astype(float)/255 # make float on range 0-1\n",
        "\n",
        "  mask = first_img >= 0.5 # generate boolean mask of everywhere a > 0.5\n",
        "  ab = np.zeros_like(first_img) # generate an output container for the blended image\n",
        "\n",
        "  # now do the blending\n",
        "  ab[~mask] = (2*first_img*second_img)[~mask] # 2ab everywhere a<0.5\n",
        "  ab[mask] = (1-2*(1-first_img)*(1-second_img))[mask] # else this\n",
        "\n",
        "  return (ab*255).astype(np.uint8) # convert back to cv2 format"
      ]
    },
    {
      "cell_type": "code",
      "execution_count": null,
      "metadata": {
        "id": "L2LnHtJkOH25"
      },
      "outputs": [],
      "source": [
        "result = blend(img, hpf)\n",
        "display(result)"
      ]
    },
    {
      "cell_type": "markdown",
      "metadata": {
        "id": "UbvNEyVWJAEA"
      },
      "source": [
        "Because the result from overlaying high pass on original image is the opposite of what we want, we need to subtract the result from 255 (invert)"
      ]
    },
    {
      "cell_type": "markdown",
      "metadata": {
        "id": "jCTctiTFJAEB"
      },
      "source": [
        "## Invert high pass"
      ]
    },
    {
      "cell_type": "code",
      "execution_count": null,
      "metadata": {
        "id": "gVEI5buPMXNM"
      },
      "outputs": [],
      "source": [
        "hpfInv = (255-hpf)\n",
        "display(hpfInv)"
      ]
    },
    {
      "cell_type": "code",
      "execution_count": null,
      "metadata": {
        "id": "urapHGuJPOBO"
      },
      "outputs": [],
      "source": [
        "result2 = blend(img, hpfInv)\n",
        "display(result2)"
      ]
    },
    {
      "cell_type": "markdown",
      "metadata": {
        "id": "80GDI_MzJAEC"
      },
      "source": [
        "## Compare the result with original image"
      ]
    },
    {
      "cell_type": "code",
      "execution_count": null,
      "metadata": {
        "id": "4Ij8vbA8JAEC"
      },
      "outputs": [],
      "source": [
        "plt.figure(figsize=(12,10))\n",
        "plt.subplot(121),plt.imshow(cv.cvtColor(img, cv.COLOR_BGR2RGB)),plt.title('Original')\n",
        "plt.xticks([]), plt.yticks([])\n",
        "plt.subplot(122),plt.imshow(cv.cvtColor(result2, cv.COLOR_BGR2RGB)),plt.title('Beautified')\n",
        "plt.xticks([]), plt.yticks([])\n",
        "plt.show()"
      ]
    },
    {
      "cell_type": "markdown",
      "metadata": {
        "id": "b8uguWqPJAED"
      },
      "source": [
        "We can see that the result is what we want"
      ]
    }
  ],
  "metadata": {
    "colab": {
      "provenance": []
    },
    "kernelspec": {
      "display_name": "Python 3.10.1 64-bit",
      "language": "python",
      "name": "python3"
    },
    "language_info": {
      "codemirror_mode": {
        "name": "ipython",
        "version": 3
      },
      "file_extension": ".py",
      "mimetype": "text/x-python",
      "name": "python",
      "nbconvert_exporter": "python",
      "pygments_lexer": "ipython3",
      "version": "3.10.1"
    },
    "vscode": {
      "interpreter": {
        "hash": "739c9913c94526a8a4b7a6bf56fa0291505d6fd08305d4dff7c60d19165040e2"
      }
    }
  },
  "nbformat": 4,
  "nbformat_minor": 0
}